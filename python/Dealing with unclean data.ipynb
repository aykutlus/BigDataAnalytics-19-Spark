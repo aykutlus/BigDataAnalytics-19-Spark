{
 "cells": [
  {
   "cell_type": "markdown",
   "metadata": {},
   "source": [
    "## Dealing with unclean data"
   ]
  },
  {
   "cell_type": "markdown",
   "metadata": {},
   "source": [
    "Typically, data to be analyzed in real world applications is not fully clean. Frequently, there are missing fields, invalid values, etc.\n",
    "\n",
    "\n",
    "A civil engineer is working in the design of a bridge, trying to find different alternatives, each of them having a total bridge weight and the degree of deformation in certain parts (e.g., see http://ebesjmetal.sourceforge.net/problems.html). After using an optimization software, she/he has obtained a .txt file (attached to this task) with a number of rows indicating different trade-off designs. A plot of this file should look like like this graph:\n",
    "\n",
    "\n",
    "\n",
    "PlotBridge.PNG\n",
    "\n",
    "\n",
    "Unfortunately, some lines/fields have invalid values (blank lines, missing values, characters instead of numbers, etc), and there are also repeteated lines.\n",
    "\n",
    "\n",
    "This task consists in developing a Jupyter notebook with PySpark to read the file, remove all the invalid lines and remove those that are appears more than one time, and plot the clean data."
   ]
  },
  {
   "cell_type": "code",
   "execution_count": 1,
   "metadata": {},
   "outputs": [],
   "source": [
    "# Import requiered libraries\n",
    "\n",
    "from pyspark.sql import SparkSession\n",
    "from pyspark.sql.types import *\n",
    "\n",
    "%matplotlib inline\n",
    "import matplotlib.pyplot as plt\n",
    "import pandas as pd\n",
    "import numpy as np\n"
   ]
  },
  {
   "cell_type": "code",
   "execution_count": 4,
   "metadata": {},
   "outputs": [],
   "source": [
    "# Set spark session\n",
    "\n",
    "spark_session = SparkSession.builder \\\n",
    "          .getOrCreate()"
   ]
  },
  {
   "cell_type": "code",
   "execution_count": 5,
   "metadata": {},
   "outputs": [],
   "source": [
    "# Create struct schema and load data\n",
    "\n",
    "schema = StructType([StructField(\"Weight\", DoubleType(),False), \\\n",
    "                        StructField(\"Deformation\", DoubleType(), False)])\n",
    "\n",
    "dataset = spark_session.read.csv(\n",
    "        path=\"/home/master/Descargas/bridge.csv\",\n",
    "        sep=\",\",\n",
    "        header=True,\n",
    "        schema=schema)"
   ]
  },
  {
   "cell_type": "code",
   "execution_count": 6,
   "metadata": {},
   "outputs": [
    {
     "name": "stdout",
     "output_type": "stream",
     "text": [
      "+-------------------+-------------------+\n",
      "|             Weight|        Deformation|\n",
      "+-------------------+-------------------+\n",
      "| 0.1600004095193499|  0.599999565925713|\n",
      "| 0.7999996334783612|  0.105573019041743|\n",
      "| 0.3474026835213373|0.41059125458931517|\n",
      "| 0.3409188533102768| 0.4161174319177898|\n",
      "|0.33448446398543363| 0.4216536843155324|\n",
      "|   0.35390522300019| 0.4051006617019322|\n",
      "| 0.3280925245214544|0.42720638686411727|\n",
      "| 0.3217358217215534|0.43278238841939665|\n",
      "|0.36039794488768706| 0.3996684723945372|\n",
      "| 0.3154172733712044| 0.4383797783455403|\n",
      "| 0.3669234753668437| 0.3942579191642874|\n",
      "|0.37345638999357544| 0.3888892255982278|\n",
      "| 0.3091488764126171|0.44398842406579203|\n",
      "| 0.3800121516706126|0.38354874656944227|\n",
      "|0.30295098086750766|0.44959017652156535|\n",
      "| 0.2967605824612727|               null|\n",
      "|0.38657333470529276| 0.3782497818184258|\n",
      "|0.29063517731969263| 0.4608941011769619|\n",
      "|0.28454896813201636|0.46656868557912423|\n",
      "|0.39313313091886176| 0.3729967066807797|\n",
      "|0.27851604294199267| 0.4722538129822601|\n",
      "|               null|               null|\n",
      "|0.40628079773284537| 0.3625984029187178|\n",
      "| 0.2725391509923811|0.47794719128862156|\n",
      "| 0.4128701094135405|0.35745030727941896|\n",
      "+-------------------+-------------------+\n",
      "only showing top 25 rows\n",
      "\n"
     ]
    }
   ],
   "source": [
    "dataset.show(25)"
   ]
  },
  {
   "cell_type": "code",
   "execution_count": 7,
   "metadata": {},
   "outputs": [
    {
     "name": "stdout",
     "output_type": "stream",
     "text": [
      "+-------------------+-------------------+\n",
      "|             Weight|        Deformation|\n",
      "+-------------------+-------------------+\n",
      "| 0.1600004095193499|  0.599999565925713|\n",
      "| 0.7999996334783612|  0.105573019041743|\n",
      "| 0.3474026835213373|0.41059125458931517|\n",
      "| 0.3409188533102768| 0.4161174319177898|\n",
      "|0.33448446398543363| 0.4216536843155324|\n",
      "|   0.35390522300019| 0.4051006617019322|\n",
      "| 0.3280925245214544|0.42720638686411727|\n",
      "| 0.3217358217215534|0.43278238841939665|\n",
      "|0.36039794488768706| 0.3996684723945372|\n",
      "| 0.3154172733712044| 0.4383797783455403|\n",
      "| 0.3669234753668437| 0.3942579191642874|\n",
      "|0.37345638999357544| 0.3888892255982278|\n",
      "| 0.3091488764126171|0.44398842406579203|\n",
      "| 0.3800121516706126|0.38354874656944227|\n",
      "|0.30295098086750766|0.44959017652156535|\n",
      "|0.38657333470529276| 0.3782497818184258|\n",
      "|0.29063517731969263| 0.4608941011769619|\n",
      "|0.28454896813201636|0.46656868557912423|\n",
      "|0.39313313091886176| 0.3729967066807797|\n",
      "|0.27851604294199267| 0.4722538129822601|\n",
      "|0.40628079773284537| 0.3625984029187178|\n",
      "| 0.2725391509923811|0.47794719128862156|\n",
      "| 0.4128701094135405|0.35745030727941896|\n",
      "|0.41945562365240663| 0.3523460745683106|\n",
      "| 0.2666410888324653|  0.483626986875897|\n",
      "+-------------------+-------------------+\n",
      "only showing top 25 rows\n",
      "\n"
     ]
    }
   ],
   "source": [
    "# Remove null values \n",
    "dataset_without_null =dataset.na.drop('any')\n",
    "dataset_without_null.show(25)"
   ]
  },
  {
   "cell_type": "code",
   "execution_count": 8,
   "metadata": {},
   "outputs": [
    {
     "name": "stdout",
     "output_type": "stream",
     "text": [
      "+-------------------+-------------------+\n",
      "|             Weight|        Deformation|\n",
      "+-------------------+-------------------+\n",
      "|0.33448446398543363| 0.4216536843155324|\n",
      "|  0.572968945115894|0.24305287848265267|\n",
      "| 0.6348644998867188| 0.2032161525475955|\n",
      "|0.18971116938088003| 0.5644415504920198|\n",
      "| 0.7185978141827077|0.15229851636479771|\n",
      "| 0.7043645514037609|0.16073571880342452|\n",
      "| 0.6279429618162687|0.20757148355483204|\n",
      "| 0.3091488764126171|0.44398842406579203|\n",
      "|  0.525790747174963| 0.2748857010542112|\n",
      "|0.40628079773284537| 0.3625984029187178|\n",
      "|0.24925016280479606| 0.5007504192441555|\n",
      "| 0.6486854221627268| 0.1945899156919917|\n",
      "| 0.5661846565085659| 0.2475475719299154|\n",
      "| 0.4326541976345938| 0.3422354548598913|\n",
      "| 0.2105619652240353| 0.5411296943302976|\n",
      "| 0.7848970329348788|0.11405585364696387|\n",
      "| 0.3669234753668437| 0.3942579191642874|\n",
      "|0.27851604294199267| 0.4722538129822601|\n",
      "|  0.492385620193628| 0.2982980591482772|\n",
      "| 0.5934590765189613|0.22963704914396238|\n",
      "| 0.3409188533102768| 0.4161174319177898|\n",
      "|0.37345638999357544| 0.3888892255982278|\n",
      "|0.45255046546599664|0.32728129578647425|\n",
      "| 0.2607841547754233|0.48932970052841396|\n",
      "| 0.6210262701514918|0.21194779985619494|\n",
      "+-------------------+-------------------+\n",
      "only showing top 25 rows\n",
      "\n"
     ]
    }
   ],
   "source": [
    "# Remove duplicates values \n",
    "dataset_clean = dataset_without_null.drop_duplicates()\n",
    "dataset_clean.show(25)"
   ]
  },
  {
   "cell_type": "code",
   "execution_count": 9,
   "metadata": {},
   "outputs": [],
   "source": [
    "# Convert to df to plot\n",
    "dataframe = dataset_clean.toPandas()"
   ]
  },
  {
   "cell_type": "code",
   "execution_count": 10,
   "metadata": {},
   "outputs": [],
   "source": [
    "# Take axis\n",
    "\n",
    "x = dataframe[\"Weight\"]\n",
    "y=dataframe[\"Deformation\"]"
   ]
  },
  {
   "cell_type": "code",
   "execution_count": 11,
   "metadata": {},
   "outputs": [
    {
     "data": {
      "image/png": "[encoded data removed]",
      "text/plain": [
       "<Figure size 720x504 with 1 Axes>"
      ]
     },
     "metadata": {
      "needs_background": "light"
     },
     "output_type": "display_data"
    }
   ],
   "source": [
    "# Plot graph\n",
    "\n",
    "fig, ax = plt.subplots(figsize=(10,7))\n",
    "ax.scatter(x, y,marker='o',c=\"#e500ff\" )\n",
    "ax.set_title('Bridge weight and deformation')    \n",
    "ax.set_xlabel('Weight')\n",
    "ax.set_ylabel('Deformation')\n",
    "\n",
    "ax.grid()\n",
    "plt.tight_layout()\n",
    "\n",
    "plt.show()"
   ]
  },
  {
   "cell_type": "code",
   "execution_count": null,
   "metadata": {},
   "outputs": [],
   "source": []
  },
  {
   "cell_type": "code",
   "execution_count": null,
   "metadata": {},
   "outputs": [],
   "source": []
  }
 ],
 "metadata": {
  "kernelspec": {
   "display_name": "Python 3",
   "language": "python",
   "name": "python3"
  },
  "language_info": {
   "codemirror_mode": {
    "name": "ipython",
    "version": 3
   },
   "file_extension": ".py",
   "mimetype": "text/x-python",
   "name": "python",
   "nbconvert_exporter": "python",
   "pygments_lexer": "ipython3",
   "version": "3.7.0"
  }
 },
 "nbformat": 4,
 "nbformat_minor": 2
}
